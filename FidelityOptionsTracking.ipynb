{
  "nbformat": 4,
  "nbformat_minor": 0,
  "metadata": {
    "colab": {
      "provenance": [],
      "authorship_tag": "ABX9TyOzFAwZEyp0xf/1Xcd4r0lF",
      "include_colab_link": true
    },
    "kernelspec": {
      "name": "python3",
      "display_name": "Python 3"
    },
    "language_info": {
      "name": "python"
    }
  },
  "cells": [
    {
      "cell_type": "markdown",
      "metadata": {
        "id": "view-in-github",
        "colab_type": "text"
      },
      "source": [
        "<a href=\"https://colab.research.google.com/github/ClovisL/FidelityOptionsTracker/blob/main/FidelityOptionsTracking.ipynb\" target=\"_parent\"><img src=\"https://colab.research.google.com/assets/colab-badge.svg\" alt=\"Open In Colab\"/></a>"
      ]
    },
    {
      "cell_type": "markdown",
      "source": [
        "##Run all cells (**CTRL+F9**). A prompt will appear in this first cell to upload a file. Upload the **.csv** file containing transaction history, downloaded from Fidelity, ideally having chosen a 2 month time period containing all transaction dates of those months. The remaining cells will then be run, and a formatted Excel spreadsheet will be exported, and can be downloaded from the \"Files\" tab on the left, denoted by the 📁 **folder icon**. Click the folder icon to open the list of files, then right click and download the **formatted** report."
      ],
      "metadata": {
        "id": "L7l1En_GErRt"
      }
    },
    {
      "cell_type": "code",
      "execution_count": null,
      "metadata": {
        "id": "zmV7WyIl-o44"
      },
      "outputs": [],
      "source": [
        "from google.colab import files\n",
        "# Brings up the prompt to upload a file\n",
        "# If an error message appears, try enabling cookies for the site\n",
        "data_to_load = files.upload()"
      ]
    },
    {
      "cell_type": "code",
      "source": [
        "import pandas as pd\n",
        "import numpy as np\n",
        "import io\n",
        " \n",
        "# Reads the .csv file and creates a data frame, skipping the first 5 rows that contain unneccessary information\n",
        "report_df = pd.read_csv(list(data_to_load.keys())[0], skiprows=5)\n",
        "\n",
        "\n",
        "# Creates a new dataframe with only the rows containing Puts and Calls\n",
        "clean_df = report_df[report_df[\"Security Description\"].str.contains(\"PUT|CALL\", regex=True, case=False, na=False)]\n",
        "#clean_df = report_df[report_df[\"Symbol\"].str.contains(\"SPY\", regex=True, case=False, na=False)]\n",
        "\n",
        "# Drop index and unnecessary columns, rename columns to more descriptive names\n",
        "clean_df = clean_df.drop(\"Account\", axis=1)\n",
        "clean_df = clean_df.drop(\"Action\", axis=1)\n",
        "clean_df = clean_df.drop(\"Symbol\", axis=1)\n",
        "clean_df = clean_df.drop(\"Security Type\", axis=1)\n",
        "clean_df = clean_df.drop(\"Price ($)\", axis=1)\n",
        "clean_df = clean_df.drop(\"Commission ($)\", axis=1)\n",
        "clean_df = clean_df.drop(\"Fees ($)\", axis=1)\n",
        "clean_df = clean_df.drop(\"Accrued Interest ($)\", axis=1)\n",
        "clean_df = clean_df.rename(columns={'Run Date': 'Transaction Date', 'Security Description': 'Action'})\n",
        "clean_df = clean_df[[\"Transaction Date\", \"Action\", \"Quantity\", \"Amount ($)\"]]\n",
        "clean_df = clean_df.reset_index(drop=True)\n",
        "\n",
        "# Splits the action column into multiple columns containing ticker, call/put, expiration date, and strike price\n",
        "action_df = pd.DataFrame(clean_df[\"Action\"].str.split().values.tolist())\n",
        "clean_df = clean_df.drop(\"Action\", axis=1)\n",
        "clean_df[\"Ticker\"] = action_df[1]\n",
        "clean_df[\"Type\"] = action_df[0]\n",
        "# Reverses the order to grab relevant info\n",
        "action_df = action_df.rename(columns={12: 0, 11:1, 10: 2, 9: 3, 8: 4, 7: 5, 5: 7, 4: 8, 3: 9, 2: 10, 1: 11, 0: 12})\n",
        "# Loops over the columns, stopping once it reaches \"SHS)\" to skip over blanks, in order to find strike price and expiration date\n",
        "c = 0\n",
        "r = 0\n",
        "for row in action_df.iterrows():\n",
        "  # While the string hasn't been reached, the int representing column index increases, moving to the next column in the row to check\n",
        "  while action_df[c][r] != \"SHS)\":\n",
        "    c += 1\n",
        "  # Once the string has been reached, the Expiration Date and Strike Price can be found and are added to the corresponding column/row in the data frame. Row index is increased, column is reset to 0\n",
        "  # For date, the final 3 characters of the month string are taken, in case of any typos\n",
        "  clean_df.loc[clean_df.index[r], \"Expiration Date\"] = action_df[c+5][r][-3::]+\"-\"+action_df[c+4][r]+\"-\"+action_df[c+3][r]\n",
        "  clean_df.loc[clean_df.index[r], \"Strike Price\"] = action_df[c+2][r]\n",
        "  r += 1\n",
        "  c = 0\n",
        "\n",
        "# Rearrange columns\n",
        "clean_df = clean_df[[\"Transaction Date\", \"Ticker\", \"Type\", \"Expiration Date\", \"Strike Price\", \"Quantity\", \"Amount ($)\"]]\n",
        "# Changes Transaction and Expiration Date columns into a datetime format to be able to sort in order\n",
        "clean_df[\"Transaction Date\"] = pd.to_datetime(clean_df[\"Transaction Date\"])\n",
        "clean_df[\"Transaction Date\"] = clean_df[\"Transaction Date\"].dt.strftime('%m-%d-%Y')\n",
        "clean_df[\"Expiration Date\"] = pd.to_datetime(clean_df[\"Expiration Date\"])\n",
        "clean_df[\"Expiration Date\"] = clean_df[\"Expiration Date\"].dt.strftime('%m-%d-%Y')\n",
        "\n",
        "clean_df"
      ],
      "metadata": {
        "id": "f3w6Xu7kmvac"
      },
      "execution_count": null,
      "outputs": []
    },
    {
      "cell_type": "code",
      "source": [
        "# Adds up the total net P/L\n",
        "Total = clean_df[\"Amount ($)\"].sum().round(2)\n",
        "print(\"Total P/L for the date range: \")\n",
        "print(Total)"
      ],
      "metadata": {
        "id": "iA8tU9s2u4po"
      },
      "execution_count": null,
      "outputs": []
    },
    {
      "cell_type": "markdown",
      "source": [
        "##Exports the dataframe as an Excel spreadsheet. After running this cell, a file will appear in the \"Files\" tab to the left, denoted by the 📁 folder icon. Click the folder icon to open the list of files, then right click and download the formatted report."
      ],
      "metadata": {
        "id": "md9K-3Qo1JNQ"
      }
    },
    {
      "cell_type": "code",
      "source": [
        "import openpyxl\n",
        "\n",
        "# Gets the month range for the file, to put in the file name for better reference\n",
        "months = pd.to_datetime(clean_df[\"Transaction Date\"])\n",
        "months = months.dt.strftime('%b-%Y')\n",
        "last_index = months.size - 1\n",
        "month1 = months[last_index]\n",
        "month2 = months[0]\n",
        "# Takes the original file name, adds \"Formatted\" to the beginning, adds the month range, and exports the data frame as an Excel spreadsheet\n",
        "file_name = next(iter(data_to_load))[:-4]\n",
        "clean_df.to_excel(f'Formatted {file_name} {month1} to {month2}.xlsx', index = False)"
      ],
      "metadata": {
        "id": "ntzPEQY8xHfB"
      },
      "execution_count": null,
      "outputs": []
    }
  ]
}